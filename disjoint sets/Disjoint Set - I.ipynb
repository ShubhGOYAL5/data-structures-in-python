{
 "cells": [
  {
   "cell_type": "code",
   "execution_count": 1,
   "id": "a40212c9",
   "metadata": {},
   "outputs": [],
   "source": [
    "class UnionFind:\n",
    "    def __init__(self, size):\n",
    "        self.root = [i for i in range(size)]\n",
    "        \n",
    "    def find(self, x):\n",
    "        return self.root[x]\n",
    "    \n",
    "    def union(self, x, y):\n",
    "        rootX = self.find(x)\n",
    "        rootY = self.find(y)\n",
    "        \n",
    "        if rootX != rootY:\n",
    "            for i in range(len(self.root)):\n",
    "                if self.root[i] == rootY:\n",
    "                    self.root[i] = rootX\n",
    "                    \n",
    "    def connected(self, x, y):\n",
    "        return self.find(x) == self.find(y)"
   ]
  },
  {
   "cell_type": "code",
   "execution_count": 2,
   "id": "97436358",
   "metadata": {},
   "outputs": [],
   "source": [
    "uf = UnionFind(10)\n",
    "\n",
    "uf.union(1, 2)\n",
    "uf.union(2, 5)\n",
    "uf.union(5, 6)\n",
    "uf.union(6, 7)\n",
    "uf.union(3, 8)\n",
    "uf.union(8, 9)\n",
    "\n",
    "# 0-1-2-5-6-7 3-8-9 4"
   ]
  },
  {
   "cell_type": "code",
   "execution_count": 3,
   "id": "7f75d1a4",
   "metadata": {},
   "outputs": [
    {
     "name": "stdout",
     "output_type": "stream",
     "text": [
      "True\n",
      "True\n",
      "False\n",
      "False\n"
     ]
    }
   ],
   "source": [
    "print(uf.connected(1, 5))  \n",
    "print(uf.connected(5, 7))  \n",
    "print(uf.connected(4, 9))\n",
    "print(uf.connected(0, 4))"
   ]
  },
  {
   "cell_type": "code",
   "execution_count": 4,
   "id": "598aee09",
   "metadata": {},
   "outputs": [],
   "source": [
    "uf.union(0, 4)"
   ]
  },
  {
   "cell_type": "code",
   "execution_count": 5,
   "id": "652aa84f",
   "metadata": {},
   "outputs": [
    {
     "name": "stdout",
     "output_type": "stream",
     "text": [
      "True\n"
     ]
    }
   ],
   "source": [
    "print(uf.connected(0, 4))"
   ]
  },
  {
   "cell_type": "code",
   "execution_count": null,
   "id": "ba1f283c",
   "metadata": {},
   "outputs": [],
   "source": []
  }
 ],
 "metadata": {
  "kernelspec": {
   "display_name": "Python 3",
   "language": "python",
   "name": "python3"
  },
  "language_info": {
   "codemirror_mode": {
    "name": "ipython",
    "version": 3
   },
   "file_extension": ".py",
   "mimetype": "text/x-python",
   "name": "python",
   "nbconvert_exporter": "python",
   "pygments_lexer": "ipython3",
   "version": "3.8.8"
  }
 },
 "nbformat": 4,
 "nbformat_minor": 5
}
